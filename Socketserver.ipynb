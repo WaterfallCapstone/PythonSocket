{
 "cells": [
  {
   "cell_type": "code",
   "execution_count": 1,
   "id": "57efb501",
   "metadata": {},
   "outputs": [
    {
     "name": "stdout",
     "output_type": "stream",
     "text": [
      "<Ready>\n"
     ]
    }
   ],
   "source": [
    "import socket\n",
    "from _thread import *\n",
    "\n",
    "client_sockets = []\n",
    "\n",
    "HOST = '127.0.0.1'\n",
    "PORT = 9999\n",
    "\n",
    "print('<Ready>')\n",
    "server_socket = socket.socket(socket.AF_INET, socket.SOCK_STREAM)\n",
    "server_socket.setsockopt(socket.SOL_SOCKET, socket.SO_REUSEADDR, 1)\n",
    "server_socket.bind((HOST, PORT))\n",
    "server_socket.listen()\n",
    "\n",
    "def threaded(client_socket, addr):\n",
    "    print('<Connected by> :', addr[0], ':', addr[1])\n",
    "\n",
    "    while True:\n",
    "\n",
    "        try:\n",
    "\n",
    "            data = client_socket.recv(1024)\n",
    "\n",
    "            if not data:\n",
    "                print('<Disconnected by> :' + addr[0], ':', addr[1])\n",
    "                break\n",
    "\n",
    "            print('<Received from> :' + addr[0], ':', addr[1], data.decode())\n",
    "\n",
    "            for client in client_sockets :\n",
    "                if client != client_socket :\n",
    "                    client.send(data)\n",
    "\n",
    "        except ConnectionResetError as e:\n",
    "            print('<Disconnected by> :' + addr[0], ':', addr[1])\n",
    "            break\n",
    "\n",
    "    if client_socket in client_sockets :\n",
    "        client_sockets.remove(client_socket)\n",
    "        print('remove client list : ',len(client_sockets))\n",
    "\n",
    "    client_socket.close()"
   ]
  },
  {
   "cell_type": "code",
   "execution_count": null,
   "id": "a53debdf",
   "metadata": {},
   "outputs": [
    {
     "name": "stdout",
     "output_type": "stream",
     "text": [
      "<Set>\n",
      "NOC :  1\n",
      "Attendee :  ('127.0.0.1', 56956)\n",
      "<Set>\n",
      "<Connected by> : 127.0.0.1 : 56956\n",
      "<Received from> :127.0.0.1 : 56956 hi\n"
     ]
    }
   ],
   "source": [
    "while True:\n",
    "    print('<Set>')\n",
    "\n",
    "    client_socket, addr = server_socket.accept()\n",
    "    client_sockets.append(client_socket)\n",
    "    start_new_thread(threaded, (client_socket, addr))\n",
    "    print(\"NOC : \", len(client_sockets))\n",
    "    print(\"Attendee : \", addr[1])\n",
    "\n",
    "server_socket.close()"
   ]
  },
  {
   "cell_type": "code",
   "execution_count": null,
   "id": "b9ab382d",
   "metadata": {},
   "outputs": [],
   "source": []
  }
 ],
 "metadata": {
  "kernelspec": {
   "display_name": "Python 3 (ipykernel)",
   "language": "python",
   "name": "python3"
  },
  "language_info": {
   "codemirror_mode": {
    "name": "ipython",
    "version": 3
   },
   "file_extension": ".py",
   "mimetype": "text/x-python",
   "name": "python",
   "nbconvert_exporter": "python",
   "pygments_lexer": "ipython3",
   "version": "3.9.7"
  }
 },
 "nbformat": 4,
 "nbformat_minor": 5
}
