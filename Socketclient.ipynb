{
 "cells": [
  {
   "cell_type": "code",
   "execution_count": null,
   "id": "ca3e66af",
   "metadata": {},
   "outputs": [
    {
     "name": "stdout",
     "output_type": "stream",
     "text": [
      ">> Connect Server\n"
     ]
    }
   ],
   "source": [
    "import socket\n",
    "from _thread import *\n",
    "\n",
    "HOST = '127.0.0.1'\n",
    "PORT = 9999\n",
    "\n",
    "client_socket = socket.socket(socket.AF_INET,socket.SOCK_STREAM)\n",
    "client_socket.connect((HOST, PORT))\n",
    "\n",
    "def recv_data(client_socket) :\n",
    "    while True :\n",
    "        data = client_socket.recv(1024)\n",
    "\n",
    "        print(\"recive : \",repr(data.decode()))\n",
    "start_new_thread(recv_data, (client_socket,))\n",
    "print ('<Connect Server>')\n",
    "\n",
    "while True:\n",
    "    message = input('')\n",
    "    if message == 'quit':\n",
    "        close_data = message\n",
    "        break\n",
    "\n",
    "    client_socket.send(message.encode())\n",
    "\n",
    "\n",
    "client_socket.close()"
   ]
  },
  {
   "cell_type": "code",
   "execution_count": null,
   "id": "281b6631",
   "metadata": {},
   "outputs": [],
   "source": []
  },
  {
   "cell_type": "code",
   "execution_count": null,
   "id": "6b8db53c",
   "metadata": {},
   "outputs": [],
   "source": []
  }
 ],
 "metadata": {
  "kernelspec": {
   "display_name": "Python 3 (ipykernel)",
   "language": "python",
   "name": "python3"
  },
  "language_info": {
   "codemirror_mode": {
    "name": "ipython",
    "version": 3
   },
   "file_extension": ".py",
   "mimetype": "text/x-python",
   "name": "python",
   "nbconvert_exporter": "python",
   "pygments_lexer": "ipython3",
   "version": "3.9.7"
  }
 },
 "nbformat": 4,
 "nbformat_minor": 5
}
